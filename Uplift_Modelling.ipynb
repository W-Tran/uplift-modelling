{
 "cells": [
  {
   "cell_type": "markdown",
   "metadata": {},
   "source": [
    "# Uplift modelling for Direct Marketing"
   ]
  },
  {
   "cell_type": "markdown",
   "metadata": {},
   "source": [
    "**References**\n",
    "\n",
    "- [Rubin Causal Model](https://en.wikipedia.org/wiki/Rubin_causal_model)\n",
    "- [Stochastic solutions MineThatData Email Analytics Challenge (2008)](http://minethatdata.com/Stochastic_Solutions_E-Mail_Challenge_2008.04.30.pdf)\n",
    "- [Athey and Imbens (2015)](https://pdfs.semanticscholar.org/86ce/004214845a1683d59b64c4363a067d342cac.pdf)\n",
    "- [Pylift blog post (2018)](https://tech.wayfair.com/data-science/2018/10/pylift-a-fast-python-package-for-uplift-modeling/)\n",
    "- [Ascarza (2018)](https://journals.sagepub.com/doi/full/10.1509/jmr.16.0163)\n",
    "- [Gutierrez and Gerardy (2017)](http://proceedings.mlr.press/v67/gutierrez17a/gutierrez17a.pdf)\n",
    "- [Kunzel et al (2019)](https://arxiv.org/pdf/1706.03461.pdf)\n",
    "- [Rzepakowski and Jaroszewicz (2012)](https://pdfs.semanticscholar.org/e979/ba084f34345b2ac8783df2b4a3295ae9273f.pdf)"
   ]
  },
  {
   "cell_type": "code",
   "execution_count": 1,
   "metadata": {},
   "outputs": [
    {
     "name": "stderr",
     "output_type": "stream",
     "text": [
      "c:\\users\\wongt\\desktop\\projects\\uplift_modelling\\um_env\\lib\\site-packages\\sklearn\\externals\\joblib\\__init__.py:15: DeprecationWarning: sklearn.externals.joblib is deprecated in 0.21 and will be removed in 0.23. Please import this functionality directly from joblib, which can be installed with: pip install joblib. If this warning is raised when loading pickled models, you may need to re-serialize those models with scikit-learn 0.21+.\n",
      "  warnings.warn(msg, category=DeprecationWarning)\n"
     ]
    }
   ],
   "source": [
    "import pandas as pd\n",
    "import numpy as np\n",
    "import matplotlib.pyplot as plt\n",
    "import seaborn as sns\n",
    "from pylift import TransformedOutcome\n",
    "from xgboost import XGBClassifier\n",
    "from sklearn.model_selection import RandomizedSearchCV\n",
    "from scipy.stats import uniform, reciprocal\n",
    "from sklearn.model_selection import train_test_split\n",
    "from sklearn.ensemble import RandomForestRegressor, RandomForestClassifier\n",
    "from scipy.stats import t\n",
    "from sklearn.preprocessing import LabelEncoder\n",
    "plt.style.use('fivethirtyeight')"
   ]
  },
  {
   "cell_type": "markdown",
   "metadata": {},
   "source": [
    "<br>\n",
    "<br>"
   ]
  },
  {
   "cell_type": "markdown",
   "metadata": {},
   "source": [
    "## The data"
   ]
  },
  {
   "cell_type": "code",
   "execution_count": 2,
   "metadata": {},
   "outputs": [
    {
     "data": {
      "text/html": [
       "<div>\n",
       "<style scoped>\n",
       "    .dataframe tbody tr th:only-of-type {\n",
       "        vertical-align: middle;\n",
       "    }\n",
       "\n",
       "    .dataframe tbody tr th {\n",
       "        vertical-align: top;\n",
       "    }\n",
       "\n",
       "    .dataframe thead th {\n",
       "        text-align: right;\n",
       "    }\n",
       "</style>\n",
       "<table border=\"1\" class=\"dataframe\">\n",
       "  <thead>\n",
       "    <tr style=\"text-align: right;\">\n",
       "      <th></th>\n",
       "      <th>recency</th>\n",
       "      <th>history_segment</th>\n",
       "      <th>history</th>\n",
       "      <th>mens</th>\n",
       "      <th>womens</th>\n",
       "      <th>zip_code</th>\n",
       "      <th>newbie</th>\n",
       "      <th>channel</th>\n",
       "      <th>segment</th>\n",
       "      <th>visit</th>\n",
       "      <th>conversion</th>\n",
       "      <th>spend</th>\n",
       "    </tr>\n",
       "  </thead>\n",
       "  <tbody>\n",
       "    <tr>\n",
       "      <th>0</th>\n",
       "      <td>10</td>\n",
       "      <td>2) $100 - $200</td>\n",
       "      <td>142.44</td>\n",
       "      <td>1</td>\n",
       "      <td>0</td>\n",
       "      <td>Surburban</td>\n",
       "      <td>0</td>\n",
       "      <td>Phone</td>\n",
       "      <td>Womens E-Mail</td>\n",
       "      <td>0</td>\n",
       "      <td>0</td>\n",
       "      <td>0.0</td>\n",
       "    </tr>\n",
       "    <tr>\n",
       "      <th>1</th>\n",
       "      <td>6</td>\n",
       "      <td>3) $200 - $350</td>\n",
       "      <td>329.08</td>\n",
       "      <td>1</td>\n",
       "      <td>1</td>\n",
       "      <td>Rural</td>\n",
       "      <td>1</td>\n",
       "      <td>Web</td>\n",
       "      <td>No E-Mail</td>\n",
       "      <td>0</td>\n",
       "      <td>0</td>\n",
       "      <td>0.0</td>\n",
       "    </tr>\n",
       "    <tr>\n",
       "      <th>2</th>\n",
       "      <td>7</td>\n",
       "      <td>2) $100 - $200</td>\n",
       "      <td>180.65</td>\n",
       "      <td>0</td>\n",
       "      <td>1</td>\n",
       "      <td>Surburban</td>\n",
       "      <td>1</td>\n",
       "      <td>Web</td>\n",
       "      <td>Womens E-Mail</td>\n",
       "      <td>0</td>\n",
       "      <td>0</td>\n",
       "      <td>0.0</td>\n",
       "    </tr>\n",
       "    <tr>\n",
       "      <th>3</th>\n",
       "      <td>9</td>\n",
       "      <td>5) $500 - $750</td>\n",
       "      <td>675.83</td>\n",
       "      <td>1</td>\n",
       "      <td>0</td>\n",
       "      <td>Rural</td>\n",
       "      <td>1</td>\n",
       "      <td>Web</td>\n",
       "      <td>Mens E-Mail</td>\n",
       "      <td>0</td>\n",
       "      <td>0</td>\n",
       "      <td>0.0</td>\n",
       "    </tr>\n",
       "    <tr>\n",
       "      <th>4</th>\n",
       "      <td>2</td>\n",
       "      <td>1) $0 - $100</td>\n",
       "      <td>45.34</td>\n",
       "      <td>1</td>\n",
       "      <td>0</td>\n",
       "      <td>Urban</td>\n",
       "      <td>0</td>\n",
       "      <td>Web</td>\n",
       "      <td>Womens E-Mail</td>\n",
       "      <td>0</td>\n",
       "      <td>0</td>\n",
       "      <td>0.0</td>\n",
       "    </tr>\n",
       "  </tbody>\n",
       "</table>\n",
       "</div>"
      ],
      "text/plain": [
       "   recency history_segment  history  mens  womens   zip_code  newbie channel  \\\n",
       "0       10  2) $100 - $200   142.44     1       0  Surburban       0   Phone   \n",
       "1        6  3) $200 - $350   329.08     1       1      Rural       1     Web   \n",
       "2        7  2) $100 - $200   180.65     0       1  Surburban       1     Web   \n",
       "3        9  5) $500 - $750   675.83     1       0      Rural       1     Web   \n",
       "4        2    1) $0 - $100    45.34     1       0      Urban       0     Web   \n",
       "\n",
       "         segment  visit  conversion  spend  \n",
       "0  Womens E-Mail      0           0    0.0  \n",
       "1      No E-Mail      0           0    0.0  \n",
       "2  Womens E-Mail      0           0    0.0  \n",
       "3    Mens E-Mail      0           0    0.0  \n",
       "4  Womens E-Mail      0           0    0.0  "
      ]
     },
     "execution_count": 2,
     "metadata": {},
     "output_type": "execute_result"
    }
   ],
   "source": [
    "df = pd.read_csv(\"data/hillstrom/Kevin_Hillstrom_MineThatData_E-MailAnalytics_DataMiningChallenge_2008.03.20.csv\")\n",
    "df.head()"
   ]
  },
  {
   "cell_type": "code",
   "execution_count": 3,
   "metadata": {},
   "outputs": [
    {
     "data": {
      "text/plain": [
       "0    54606\n",
       "1     9394\n",
       "Name: visit, dtype: int64"
      ]
     },
     "execution_count": 3,
     "metadata": {},
     "output_type": "execute_result"
    }
   ],
   "source": [
    "df.visit.value_counts()"
   ]
  },
  {
   "cell_type": "code",
   "execution_count": 4,
   "metadata": {},
   "outputs": [
    {
     "data": {
      "text/plain": [
       "0    63422\n",
       "1      578\n",
       "Name: conversion, dtype: int64"
      ]
     },
     "execution_count": 4,
     "metadata": {},
     "output_type": "execute_result"
    }
   ],
   "source": [
    "df.conversion.value_counts()"
   ]
  },
  {
   "cell_type": "markdown",
   "metadata": {},
   "source": [
    "Only 578 customers made purchases, a rather low conversion rate"
   ]
  },
  {
   "cell_type": "markdown",
   "metadata": {},
   "source": [
    "<br>\n",
    "<br>"
   ]
  },
  {
   "cell_type": "markdown",
   "metadata": {},
   "source": [
    "### Population average treatment effects of the E-Mail campaign\n",
    "\n",
    "The Population Average Treatment Effect of the E-Mail campaign overall is:\n",
    "\n",
    "$$\\tau^{p} = \\mathbb E[Y_t - Y_c] =  \\mathbb E[Y_t] -  \\mathbb E[Y_c]$$\n",
    "\n",
    "where $Y \\in \\{ 0, 1 \\} $ is equal to $1$ if the customer purchases and $0$ otherwise while $t$ and $c$ indicate the treatment and control groups respectively. \n",
    "\n",
    "In a randomized experiment where the E-Mail campaign is randomized across a representative sample of customers, the populatation average treatment effect can be estimated by taking the difference between the average treated and control group outcomes. This is because, outside of the treatment, the two groups of customers are comparable in terms of their features.\n",
    "\n",
    "Like for an A/B test, this is what's used to determine whether the E-Mail campaign was a success overall. Was there a (statistically/practically significant) uplift in visits, purchases, or sales as a result of the E-Mail campaign?\n",
    "\n",
    "**On visits**"
   ]
  },
  {
   "cell_type": "code",
   "execution_count": 5,
   "metadata": {},
   "outputs": [
    {
     "name": "stdout",
     "output_type": "stream",
     "text": [
      "Men's E-Mail visit rate: 18.28%\n",
      "Women's E-Mail visit rate: 15.14%\n",
      "Control E-mail visit Rate: 10.62%\n",
      "---------------------------------\n",
      "Men's visit rate uplift: 7.66%\n",
      "Womens's visit rate uplift: 4.52%\n"
     ]
    }
   ],
   "source": [
    "mens = df[df.segment==\"Mens E-Mail\"].visit.mean()*100\n",
    "womens = df[df.segment==\"Womens E-Mail\"].visit.mean()*100\n",
    "control = df[df.segment==\"No E-Mail\"].visit.mean()*100\n",
    "print(\"Men's E-Mail visit rate: {:.2f}%\".format(mens))\n",
    "print(\"Women's E-Mail visit rate: {:.2f}%\".format(womens))\n",
    "print(\"Control E-mail visit Rate: {:.2f}%\".format(control))\n",
    "print(\"---------------------------------\")\n",
    "print(\"Men's visit rate uplift: {:.2f}%\".format(mens-control))\n",
    "print(\"Womens's visit rate uplift: {:.2f}%\".format(womens-control))"
   ]
  },
  {
   "cell_type": "markdown",
   "metadata": {},
   "source": [
    "**On conversion**"
   ]
  },
  {
   "cell_type": "code",
   "execution_count": 6,
   "metadata": {},
   "outputs": [
    {
     "name": "stdout",
     "output_type": "stream",
     "text": [
      "Men's E-Mail conversion rate: 1.25%\n",
      "Women's E-Mail conversion rate: 0.88%\n",
      "Control E-mail conversion Rate: 0.57%\n",
      "---------------------------------\n",
      "Men's conversion rate uplift: 0.68%\n",
      "Womens's conversion rate uplift: 0.31%\n"
     ]
    }
   ],
   "source": [
    "mens = df[df.segment==\"Mens E-Mail\"].conversion.mean()*100\n",
    "womens = df[df.segment==\"Womens E-Mail\"].conversion.mean()*100\n",
    "control = df[df.segment==\"No E-Mail\"].conversion.mean()*100\n",
    "print(\"Men's E-Mail conversion rate: {:.2f}%\".format(mens))\n",
    "print(\"Women's E-Mail conversion rate: {:.2f}%\".format(womens))\n",
    "print(\"Control E-mail conversion Rate: {:.2f}%\".format(control))\n",
    "print(\"---------------------------------\")\n",
    "print(\"Men's conversion rate uplift: {:.2f}%\".format(mens-control))\n",
    "print(\"Womens's conversion rate uplift: {:.2f}%\".format(womens-control))"
   ]
  },
  {
   "cell_type": "markdown",
   "metadata": {},
   "source": [
    "**On spending**"
   ]
  },
  {
   "cell_type": "code",
   "execution_count": 7,
   "metadata": {},
   "outputs": [
    {
     "name": "stdout",
     "output_type": "stream",
     "text": [
      "Men's E-Mail spending: $1.42\n",
      "Women's E-Mail spending: $1.08\n",
      "Control E-mail spending: $0.65\n",
      "---------------------------------\n",
      "Men's spending uplift: $0.77\n",
      "Womens's spending uplift: $0.42\n"
     ]
    }
   ],
   "source": [
    "mens = df[df.segment==\"Mens E-Mail\"].spend.mean()\n",
    "womens = df[df.segment==\"Womens E-Mail\"].spend.mean()\n",
    "control = df[df.segment==\"No E-Mail\"].spend.mean()\n",
    "print(\"Men's E-Mail spending: ${:.2f}\".format(mens))\n",
    "print(\"Women's E-Mail spending: ${:.2f}\".format(womens))\n",
    "print(\"Control E-mail spending: ${:.2f}\".format(control))\n",
    "print(\"---------------------------------\")\n",
    "print(\"Men's spending uplift: ${:.2f}\".format(mens-control))\n",
    "print(\"Womens's spending uplift: ${:.2f}\".format(womens-control))"
   ]
  },
  {
   "cell_type": "markdown",
   "metadata": {},
   "source": [
    "<br>\n",
    "<br>"
   ]
  },
  {
   "cell_type": "markdown",
   "metadata": {},
   "source": [
    "### Aside - Different formulation\n",
    "\n",
    "Customers only spend money if they make a purchase (conversion) and they only make a purchase if they visit the website (visit). Therefore a natural way to decompose the uplifts is with the following:\n",
    "\n",
    "$$\\mathbb E[\\text{spend}] = \\mathbb E[\\text{spend|purchase}] \\times \\text{P}(\\text{purchase|visit}) \\times \\text{P}(\\text{visit})$$"
   ]
  },
  {
   "cell_type": "code",
   "execution_count": 8,
   "metadata": {},
   "outputs": [
    {
     "name": "stdout",
     "output_type": "stream",
     "text": [
      "Mens average spend given purchase: $113.53\n",
      "Womens average spend given purchase: $121.89\n",
      "Control average spend given purchase: $114.00\n"
     ]
    }
   ],
   "source": [
    "print(\"Mens average spend given purchase: ${:.2f}\".format(df[(df.conversion==1) & (df.segment=='Mens E-Mail')].spend.mean()))\n",
    "print(\"Womens average spend given purchase: ${:.2f}\".format(df[(df.conversion==1) & (df.segment=='Womens E-Mail')].spend.mean()))\n",
    "print(\"Control average spend given purchase: ${:.2f}\".format(df[(df.conversion==1) & (df.segment=='No E-Mail')].spend.mean()))"
   ]
  },
  {
   "cell_type": "code",
   "execution_count": 9,
   "metadata": {},
   "outputs": [
    {
     "name": "stdout",
     "output_type": "stream",
     "text": [
      "Mens purchase rate given visit: 6.86%\n",
      "Womens purchase rate given visit: 5.84%\n",
      "Control purchase rate given visit: 5.39%\n"
     ]
    }
   ],
   "source": [
    "print(\"Mens purchase rate given visit: {:.2f}%\".format(100*(len(df[(df.conversion==1) & (df.segment=='Mens E-Mail')]) / len(df[(df.visit==1) & (df.segment=='Mens E-Mail')]))))\n",
    "print(\"Womens purchase rate given visit: {:.2f}%\".format(100*(len(df[(df.conversion==1) & (df.segment=='Womens E-Mail')]) / len(df[(df.visit==1) & (df.segment=='Womens E-Mail')]))))\n",
    "print(\"Control purchase rate given visit: {:.2f}%\".format(100*(len(df[(df.conversion==1) & (df.segment=='No E-Mail')]) / len(df[(df.visit==1) & (df.segment=='No E-Mail')]))))"
   ]
  },
  {
   "cell_type": "code",
   "execution_count": 10,
   "metadata": {},
   "outputs": [
    {
     "name": "stdout",
     "output_type": "stream",
     "text": [
      "Mens visit rate: 18.28%\n",
      "Womens visit rate: 15.14%\n",
      "Control visit rate: 10.62%\n"
     ]
    }
   ],
   "source": [
    "print(\"Mens visit rate: {:.2f}%\".format(100*(len(df[(df.visit==1) & (df.segment=='Mens E-Mail')]) / len(df[(df.segment=='Mens E-Mail')]))))\n",
    "print(\"Womens visit rate: {:.2f}%\".format(100*(len(df[(df.visit==1) & (df.segment=='Womens E-Mail')]) / len(df[(df.segment=='Womens E-Mail')]))))\n",
    "print(\"Control visit rate: {:.2f}%\".format(100*(len(df[(df.visit==1) & (df.segment=='No E-Mail')]) / len(df[(df.segment=='No E-Mail')]))))"
   ]
  },
  {
   "cell_type": "markdown",
   "metadata": {},
   "source": [
    "Multiplying the corresponding quantities above gives:"
   ]
  },
  {
   "cell_type": "code",
   "execution_count": 11,
   "metadata": {},
   "outputs": [
    {
     "name": "stdout",
     "output_type": "stream",
     "text": [
      "Mens mean spend: $1.42\n",
      "Womens mean spend: $1.08\n",
      "Control mean spend: $0.65\n"
     ]
    }
   ],
   "source": [
    "print(\"Mens mean spend: ${:.2f}\".format(df[(df.segment=='Mens E-Mail')].spend.mean()))\n",
    "print(\"Womens mean spend: ${:.2f}\".format(df[(df.segment=='Womens E-Mail')].spend.mean()))\n",
    "print(\"Control mean spend: ${:.2f}\".format(df[(df.segment=='No E-Mail')].spend.mean()))"
   ]
  },
  {
   "cell_type": "markdown",
   "metadata": {},
   "source": [
    "aka spend per head, as per the formulation above"
   ]
  },
  {
   "cell_type": "markdown",
   "metadata": {},
   "source": [
    "<br>\n",
    "<br>"
   ]
  },
  {
   "cell_type": "markdown",
   "metadata": {},
   "source": [
    "### Conditional Average Treatment Effects (CATE)\n",
    "\n",
    "On average there was an uplift in visit rate and expenditure across the population, however different individuals should react differently to any given intervention. Some customers are more persuadable than others, some will purchase regardless of the E-Mail, whilst others will not purchase regardless of whether they are targeted or not (See section 3 of [this paper](http://stochasticsolutions.com/pdf/CrossSell.pdf)).\n",
    "\n",
    "To incorporate this type of customer heterogeneity, we instead need to model an individual customer's treatment effect conditional on their features i.e. the conditional average treatment effect. We are assuming that a customer's features $x$ are predictive of whether or not the E-Mail campaign will have a positive effect on them. \n",
    "\n",
    "This is where **uplift modelling** comes in.\n",
    "\n",
    "We build a model that identifies subpopulations of customers for which the treatment will have the largest uplift. That way we can ensure the largest ROI by only targeting groups of customers that are most likely to respond positively to marketing campaigns.\n",
    "\n",
    "Mathematically, we target customers whose conditional average treatment effect (CATE) is larger than the population average treatment effect\n",
    "\n",
    "$$ \\tau^{(i)} = E[ Y_{t}^{(i)} - Y_{c}^{(i)}| \\mathbf{x}^{(i)} ] > \\tau^{p}$$\n",
    "\n",
    "where $\\mathbf{x^{(i)}}$ is a particular realization of the set of customer features for customer $i$. \n",
    "\n",
    "The model will rank customers by uplift in a descending manner and we will investigate the cumulative uplift (or \"gain\") of the outcome when targeting increasing proportions of the subpopulation from largest uplift to smallest."
   ]
  },
  {
   "cell_type": "markdown",
   "metadata": {},
   "source": [
    "<br>\n",
    "<br>"
   ]
  },
  {
   "cell_type": "markdown",
   "metadata": {},
   "source": [
    "### Build Uplift & Response models for Women's Visit Rate"
   ]
  },
  {
   "cell_type": "markdown",
   "metadata": {},
   "source": [
    "**Why only model uplift for visit rate?**\n",
    "\n",
    "Due to the low conversion rates of the E-Mail campaign, the stability of purchase (conversion) uplift is not robust to sampling. In other words after performing a train/test split and producing 10% deciles, the variance of the uplift for conversion has high variance and is likely not going to be significantly different from 0. \n",
    "\n",
    "Also from the formulation above it can be seen that the increase in mean spending due to the E-Mails (compared to the control group) for women and particularly for men is dominated by an increase in visit rate. Hence it is an obvious candidate for uplift modelling; which customers will have the largest gain in visit probability and hence spending due to receiving the E-Mail?.\n",
    "\n",
    "See Section 4 and section 5.2 of [Stochastic Solutions (2008)](http://minethatdata.com/Stochastic_Solutions_E-Mail_Challenge_2008.04.30.pdf) for more details"
   ]
  },
  {
   "cell_type": "code",
   "execution_count": 12,
   "metadata": {},
   "outputs": [],
   "source": [
    "mens_df = df[df.segment!='Womens E-Mail'].copy()\n",
    "womens_df = df[df.segment!='Mens E-Mail'].copy()\n",
    "\n",
    "# Label encode segment as treatment column\n",
    "mens_df.segment.replace({'Mens E-Mail':1, 'No E-Mail':0}, inplace=True)\n",
    "womens_df.segment.replace({'Womens E-Mail':1, 'No E-Mail':0}, inplace=True)\n",
    "\n",
    "# Drop conversion and spend outcomes\n",
    "mens_df.drop(columns=['conversion', 'spend'], inplace=True)\n",
    "womens_df.drop(columns=['conversion', 'spend'], inplace=True)\n",
    "\n",
    "# Ordinal encode \"history_segment\"\n",
    "hist_seg_map = {\n",
    "    \"1) $0 - $100\":1,\n",
    "    \"2) $100 - $200\":2,\n",
    "    \"3) $200 - $350\":3,\n",
    "    \"4) $350 - $500\":4,\n",
    "    \"5) $500 - $750\":5,\n",
    "    \"6) $750 - $1,000\":6,\n",
    "    \"7) $1,000 +\":7\n",
    "}\n",
    "\n",
    "mens_df.history_segment.replace(hist_seg_map, inplace=True)\n",
    "womens_df.history_segment.replace(hist_seg_map, inplace=True)\n",
    "\n",
    "# # OHE categorical variables\n",
    "# mens_df = pd.get_dummies(mens_df)\n",
    "# womens_df = pd.get_dummies(womens_df)\n",
    "\n",
    "# Integer Encode\n",
    "mens_df.zip_code = LabelEncoder().fit_transform(mens_df.zip_code)\n",
    "mens_df.channel = LabelEncoder().fit_transform(mens_df.channel)\n",
    "womens_df.zip_code = LabelEncoder().fit_transform(womens_df.zip_code)\n",
    "womens_df.channel = LabelEncoder().fit_transform(womens_df.channel)\n",
    "\n",
    "# Label treatment and outcome columns\n",
    "mens_df.rename(columns={'segment':'Treatment', 'visit':'Outcome'}, inplace=True)\n",
    "womens_df.rename(columns={'segment':'Treatment', 'visit':'Outcome'}, inplace=True)\n",
    "\n",
    "state = 7\n",
    "\n",
    "# Build Uplift model using pylift package\n",
    "up1 = TransformedOutcome(womens_df,\n",
    "                         col_treatment='Treatment',\n",
    "                         col_outcome='Outcome',\n",
    "                         stratify=womens_df['Treatment'],\n",
    "                         test_size=0.5,\n",
    "                         continuous_outcome=False,\n",
    "                         sklearn_model=RandomForestRegressor,\n",
    "                         random_state=state\n",
    "                        )"
   ]
  },
  {
   "cell_type": "markdown",
   "metadata": {},
   "source": [
    "___"
   ]
  },
  {
   "cell_type": "code",
   "execution_count": null,
   "metadata": {},
   "outputs": [],
   "source": [
    "# RandomizedSearchCV - BEST PARAMETERS FOUND BELOW ALREADY\n",
    "up1.randomized_search(param_distributions={'max_depth': range(3,120),\n",
    "                                           'min_samples_split': range(500,2000),\n",
    "                                           'max_features':['auto', 'sqrt'],\n",
    "                                           'n_estimators': range(3,200),\n",
    "                                           'random_state': [state]\n",
    "                                          },\n",
    "                      n_iter=400,\n",
    "                      cv=5,\n",
    "                      n_jobs=6,\n",
    "                      random_state=state\n",
    "                     )\n",
    "\n",
    "up1.rand_search_.best_params_"
   ]
  },
  {
   "cell_type": "markdown",
   "metadata": {},
   "source": [
    "___"
   ]
  },
  {
   "cell_type": "code",
   "execution_count": 13,
   "metadata": {},
   "outputs": [],
   "source": [
    "best_params = {'random_state': state,\n",
    " 'n_estimators': 40,\n",
    " 'min_samples_split': 4800,\n",
    " 'max_features': 'sqrt',\n",
    " 'max_depth': 9}\n",
    "\n",
    "up1.fit(**best_params)"
   ]
  },
  {
   "cell_type": "markdown",
   "metadata": {},
   "source": [
    "**Evaluate uplift model**"
   ]
  },
  {
   "cell_type": "code",
   "execution_count": 14,
   "metadata": {},
   "outputs": [
    {
     "name": "stdout",
     "output_type": "stream",
     "text": [
      "Womens's test set visit rate uplift: 5.28%\n"
     ]
    }
   ],
   "source": [
    "womens_treated_visit_rate = up1.df_test[up1.df_test.Treatment==1].Outcome.mean()*100\n",
    "womens_untreated_visit_rate = up1.df_test[up1.df_test.Treatment==0].Outcome.mean()*100\n",
    "average_treatment_effect = womens_treated_visit_rate - womens_untreated_visit_rate\n",
    "print(\"Womens's test set visit rate uplift: {:.2f}%\".format(average_treatment_effect))"
   ]
  },
  {
   "cell_type": "code",
   "execution_count": 15,
   "metadata": {},
   "outputs": [
    {
     "name": "stdout",
     "output_type": "stream",
     "text": [
      "Cumulative Gain AUC: 0.01031\n",
      "Cumulative Gain AUC: 0.01000\n"
     ]
    },
    {
     "data": {
      "image/png": "[encoded data removed]",
      "text/plain": [
       "<Figure size 864x360 with 2 Axes>"
      ]
     },
     "metadata": {
      "needs_background": "light"
     },
     "output_type": "display_data"
    }
   ],
   "source": [
    "fig = plt.figure(figsize=(12,5))\n",
    "ax = fig.add_subplot(121)\n",
    "up1.train_results_.plot('qini', ax=ax, show_random_selection=True);\n",
    "\n",
    "ax = fig.add_subplot(122)\n",
    "up1.test_results_.plot('qini', ax=ax, show_random_selection=True);\n",
    "\n",
    "print(\"Cumulative Gain AUC: {:.5f}\".format(up1.train_results_.Q_qini))\n",
    "print(\"Cumulative Gain AUC: {:.5f}\".format(up1.test_results_.Q_qini))"
   ]
  },
  {
   "cell_type": "markdown",
   "metadata": {},
   "source": [
    "<br>\n",
    "<br>"
   ]
  },
  {
   "cell_type": "markdown",
   "metadata": {},
   "source": [
    "**Build response model**\n",
    "\n",
    "\n",
    "\n",
    "I follow the methodology and nomenclature of the analysis performed by [Ascarza (2018)](https://journals.sagepub.com/doi/full/10.1509/jmr.16.0163). As a result I use the terms \"response model\" and \"risk model\" interchangeably however they mean exactly the same thing in this context. In churn prediction parlance, a risk model is used to compute the probability of customer churn i.e. risk of churning. In this case the risk model is used to compute the propensity to visit the site thus the \"risk\" of visiting."
   ]
  },
  {
   "cell_type": "code",
   "execution_count": 16,
   "metadata": {},
   "outputs": [],
   "source": [
    "# Train on control group in calibration set, predict on treatment and control group in validation set\n",
    "train_df = up1.df_train[up1.df_train.Treatment==1].copy()\n",
    "test_df = up1.df_test.copy()\n",
    "\n",
    "# Drop other outcomes\n",
    "train_df.drop(columns = ['Treatment', 'TransformedOutcome'], inplace=True)\n",
    "test_df.drop(columns = ['Treatment', 'TransformedOutcome'], inplace=True)\n",
    "\n",
    "# Set up train/test df\n",
    "train_label = train_df.Outcome\n",
    "test_label = test_df.Outcome\n",
    "train_df = train_df.drop(columns='Outcome')\n",
    "test_df = test_df.drop(columns='Outcome')"
   ]
  },
  {
   "cell_type": "code",
   "execution_count": 17,
   "metadata": {
    "scrolled": false
   },
   "outputs": [],
   "source": [
    "risk_model = RandomForestClassifier(n_estimators=1500, max_depth=7, max_features='auto')\n",
    "risk_model.fit(train_df, train_label)\n",
    "y_pred_risk = risk_model.predict_proba(test_df)[:,1]\n",
    "\n",
    "results_df = up1.df_test.copy()\n",
    "results_df['risk'] = y_pred_risk\n",
    "results_df['uplift'] = up1.transformed_y_test_pred\n",
    "results_df['risk_decile'] = pd.qcut(y_pred_risk, 10)\n",
    "results_df['uplift_decile'] = pd.qcut(up1.transformed_y_test_pred, 10)\n",
    "\n",
    "del y_pred_risk"
   ]
  },
  {
   "cell_type": "code",
   "execution_count": 18,
   "metadata": {},
   "outputs": [
    {
     "data": {
      "text/html": [
       "<div>\n",
       "<style scoped>\n",
       "    .dataframe tbody tr th:only-of-type {\n",
       "        vertical-align: middle;\n",
       "    }\n",
       "\n",
       "    .dataframe tbody tr th {\n",
       "        vertical-align: top;\n",
       "    }\n",
       "\n",
       "    .dataframe thead th {\n",
       "        text-align: right;\n",
       "    }\n",
       "</style>\n",
       "<table border=\"1\" class=\"dataframe\">\n",
       "  <thead>\n",
       "    <tr style=\"text-align: right;\">\n",
       "      <th></th>\n",
       "      <th>recency</th>\n",
       "      <th>history_segment</th>\n",
       "      <th>history</th>\n",
       "      <th>mens</th>\n",
       "      <th>womens</th>\n",
       "      <th>zip_code</th>\n",
       "      <th>newbie</th>\n",
       "      <th>channel</th>\n",
       "      <th>Treatment</th>\n",
       "      <th>Outcome</th>\n",
       "      <th>TransformedOutcome</th>\n",
       "      <th>risk</th>\n",
       "      <th>uplift</th>\n",
       "      <th>risk_decile</th>\n",
       "      <th>uplift_decile</th>\n",
       "    </tr>\n",
       "  </thead>\n",
       "  <tbody>\n",
       "    <tr>\n",
       "      <th>57923</th>\n",
       "      <td>1</td>\n",
       "      <td>1</td>\n",
       "      <td>70.76</td>\n",
       "      <td>0</td>\n",
       "      <td>1</td>\n",
       "      <td>2</td>\n",
       "      <td>0</td>\n",
       "      <td>2</td>\n",
       "      <td>1</td>\n",
       "      <td>0</td>\n",
       "      <td>0</td>\n",
       "      <td>0.199189</td>\n",
       "      <td>0.047421</td>\n",
       "      <td>(0.195, 0.219]</td>\n",
       "      <td>(0.0461, 0.0518]</td>\n",
       "    </tr>\n",
       "    <tr>\n",
       "      <th>20210</th>\n",
       "      <td>4</td>\n",
       "      <td>4</td>\n",
       "      <td>431.55</td>\n",
       "      <td>0</td>\n",
       "      <td>1</td>\n",
       "      <td>1</td>\n",
       "      <td>0</td>\n",
       "      <td>0</td>\n",
       "      <td>0</td>\n",
       "      <td>1</td>\n",
       "      <td>-2.0038</td>\n",
       "      <td>0.241916</td>\n",
       "      <td>0.060727</td>\n",
       "      <td>(0.219, 0.393]</td>\n",
       "      <td>(0.0567, 0.0626]</td>\n",
       "    </tr>\n",
       "    <tr>\n",
       "      <th>43389</th>\n",
       "      <td>8</td>\n",
       "      <td>1</td>\n",
       "      <td>83.01</td>\n",
       "      <td>1</td>\n",
       "      <td>0</td>\n",
       "      <td>2</td>\n",
       "      <td>0</td>\n",
       "      <td>2</td>\n",
       "      <td>1</td>\n",
       "      <td>0</td>\n",
       "      <td>0</td>\n",
       "      <td>0.148192</td>\n",
       "      <td>0.016417</td>\n",
       "      <td>(0.144, 0.159]</td>\n",
       "      <td>(0.0142, 0.0188]</td>\n",
       "    </tr>\n",
       "    <tr>\n",
       "      <th>36893</th>\n",
       "      <td>7</td>\n",
       "      <td>1</td>\n",
       "      <td>47.78</td>\n",
       "      <td>1</td>\n",
       "      <td>0</td>\n",
       "      <td>1</td>\n",
       "      <td>1</td>\n",
       "      <td>2</td>\n",
       "      <td>1</td>\n",
       "      <td>0</td>\n",
       "      <td>0</td>\n",
       "      <td>0.077302</td>\n",
       "      <td>0.024784</td>\n",
       "      <td>(0.0375, 0.0797]</td>\n",
       "      <td>(0.0233, 0.0275]</td>\n",
       "    </tr>\n",
       "    <tr>\n",
       "      <th>20551</th>\n",
       "      <td>6</td>\n",
       "      <td>2</td>\n",
       "      <td>170.30</td>\n",
       "      <td>0</td>\n",
       "      <td>1</td>\n",
       "      <td>1</td>\n",
       "      <td>0</td>\n",
       "      <td>1</td>\n",
       "      <td>0</td>\n",
       "      <td>0</td>\n",
       "      <td>-0</td>\n",
       "      <td>0.191000</td>\n",
       "      <td>0.058010</td>\n",
       "      <td>(0.175, 0.195]</td>\n",
       "      <td>(0.0567, 0.0626]</td>\n",
       "    </tr>\n",
       "  </tbody>\n",
       "</table>\n",
       "</div>"
      ],
      "text/plain": [
       "       recency  history_segment  history  mens  womens  zip_code  newbie  \\\n",
       "57923        1                1    70.76     0       1         2       0   \n",
       "20210        4                4   431.55     0       1         1       0   \n",
       "43389        8                1    83.01     1       0         2       0   \n",
       "36893        7                1    47.78     1       0         1       1   \n",
       "20551        6                2   170.30     0       1         1       0   \n",
       "\n",
       "       channel  Treatment  Outcome TransformedOutcome      risk    uplift  \\\n",
       "57923        2          1        0                  0  0.199189  0.047421   \n",
       "20210        0          0        1            -2.0038  0.241916  0.060727   \n",
       "43389        2          1        0                  0  0.148192  0.016417   \n",
       "36893        2          1        0                  0  0.077302  0.024784   \n",
       "20551        1          0        0                 -0  0.191000  0.058010   \n",
       "\n",
       "            risk_decile     uplift_decile  \n",
       "57923    (0.195, 0.219]  (0.0461, 0.0518]  \n",
       "20210    (0.219, 0.393]  (0.0567, 0.0626]  \n",
       "43389    (0.144, 0.159]  (0.0142, 0.0188]  \n",
       "36893  (0.0375, 0.0797]  (0.0233, 0.0275]  \n",
       "20551    (0.175, 0.195]  (0.0567, 0.0626]  "
      ]
     },
     "execution_count": 18,
     "metadata": {},
     "output_type": "execute_result"
    }
   ],
   "source": [
    "results_df.head()"
   ]
  },
  {
   "cell_type": "markdown",
   "metadata": {},
   "source": [
    "<br>\n",
    "<br>"
   ]
  },
  {
   "cell_type": "markdown",
   "metadata": {},
   "source": [
    "### Comparison of visit rates between risk and uplift model"
   ]
  },
  {
   "cell_type": "code",
   "execution_count": 19,
   "metadata": {},
   "outputs": [],
   "source": [
    "def compute_treatment_effect(results, for_risk=True):\n",
    "    if for_risk:\n",
    "        targeting_strategy = 'risk_decile'\n",
    "    else:\n",
    "        targeting_strategy = 'uplift_decile'\n",
    "    treated_customers = results[results.Treatment==1]\n",
    "    control_customers = results[results.Treatment==0]\n",
    "    treated_visit_rates = ( \\\n",
    "                            treated_customers.groupby(targeting_strategy)['Outcome'].sum() / \\\n",
    "                            treated_customers.groupby(targeting_strategy)['Outcome'].count() \\\n",
    "                          ) * 100\n",
    "    control_visit_rates = ( \\\n",
    "                            control_customers.groupby(targeting_strategy)['Outcome'].sum() / \\\n",
    "                            control_customers.groupby(targeting_strategy)['Outcome'].count() \\\n",
    "                          ) * 100\n",
    "    te = pd.DataFrame(treated_visit_rates - control_visit_rates).reset_index()\n",
    "    te[targeting_strategy] = te[targeting_strategy].astype(str)\n",
    "    te.columns = [targeting_strategy, 'Treatment_Effect']\n",
    "    return te\n",
    "\n",
    "\n",
    "def compute_visit_rates(results, for_risk=True):   \n",
    "    if for_risk:\n",
    "        targeting_strategy = 'risk_decile'\n",
    "    else:\n",
    "        targeting_strategy = 'uplift_decile'\n",
    "    treated_customers = results[results.Treatment==1]\n",
    "    control_customers = results[results.Treatment==0]\n",
    "    treated_visit_rates = ( \\\n",
    "                            treated_customers.groupby(targeting_strategy)['Outcome'].sum() / \\\n",
    "                            treated_customers.groupby(targeting_strategy)['Outcome'].count() \\\n",
    "                          ) * 100\n",
    "    control_visit_rates = ( \\\n",
    "                            control_customers.groupby(targeting_strategy)['Outcome'].sum() / \\\n",
    "                            control_customers.groupby(targeting_strategy)['Outcome'].count() \\\n",
    "                          ) * 100\n",
    "    treated_visit_rates = pd.DataFrame(treated_visit_rates).reset_index()\n",
    "    treated_visit_rates[targeting_strategy] = treated_visit_rates[targeting_strategy].astype(str)\n",
    "    treated_visit_rates.columns = [targeting_strategy, 'visit_rate']\n",
    "    control_visit_rates = pd.DataFrame(control_visit_rates).reset_index()\n",
    "    control_visit_rates[targeting_strategy] = control_visit_rates[targeting_strategy].astype(str)\n",
    "    control_visit_rates.columns = [targeting_strategy, 'visit_rate']                 \n",
    "    return treated_visit_rates, control_visit_rates"
   ]
  },
  {
   "cell_type": "code",
   "execution_count": 20,
   "metadata": {
    "scrolled": false
   },
   "outputs": [
    {
     "data": {
      "image/png": "[encoded data removed]",
      "text/plain": [
       "<Figure size 1008x360 with 2 Axes>"
      ]
     },
     "metadata": {
      "needs_background": "light"
     },
     "output_type": "display_data"
    }
   ],
   "source": [
    "risk_treatment, risk_control = compute_visit_rates(results_df)\n",
    "uplift_treatment, uplift_control = compute_visit_rates(results_df, for_risk=False)\n",
    "\n",
    "fig = plt.figure(figsize=(14,5))\n",
    "\n",
    "ax1 = fig.add_subplot(121)\n",
    "ax1.bar(risk_treatment.risk_decile.values, risk_treatment.visit_rate.values, label='Treatment', alpha=0.75)\n",
    "ax1.bar(risk_control.risk_decile.values, risk_control.visit_rate.values, label='Control', alpha=0.75)\n",
    "ax1.set_ylabel(\"Visit rate\")\n",
    "ax1.set_xlabel(\"Risk decile (Low to High)\")\n",
    "ax1.legend()\n",
    "ax1.set_title(\"Visit rate by levels of Risk \")\n",
    "plt.xticks(rotation='vertical')\n",
    "ax1.set_ylim(0,30)\n",
    "\n",
    "ax2 = fig.add_subplot(122)\n",
    "ax2.bar(uplift_treatment.uplift_decile.values, uplift_treatment.visit_rate.values, label='Treatment', alpha=0.75)\n",
    "ax2.bar(uplift_control.uplift_decile.values, uplift_control.visit_rate.values, label='Control', alpha=0.75)\n",
    "ax2.set_ylabel(\"Visit rate\")\n",
    "ax2.set_xlabel(\"Uplift decile (Low to High)\")\n",
    "ax2.legend()\n",
    "ax2.set_title(\"Visit rate by levels of Uplift\")\n",
    "plt.xticks(rotation='vertical')\n",
    "ax2.set_ylim(0,30);"
   ]
  },
  {
   "cell_type": "code",
   "execution_count": 21,
   "metadata": {},
   "outputs": [
    {
     "data": {
      "image/png": "[encoded data removed]",
      "text/plain": [
       "<Figure size 576x432 with 1 Axes>"
      ]
     },
     "metadata": {
      "needs_background": "light"
     },
     "output_type": "display_data"
    }
   ],
   "source": [
    "group_labels = ['Group ' + str(group) for group in list(range(1,11))]\n",
    "risk_te = compute_treatment_effect(results_df)\n",
    "risk_te['group'] = group_labels\n",
    "uplift_te = compute_treatment_effect(results_df, for_risk=False)\n",
    "uplift_te['group'] = group_labels\n",
    "\n",
    "plt.figure(figsize=(8,6))\n",
    "plt.plot(risk_te.group.values, risk_te.Treatment_Effect.values, 'ro-', linewidth=0.75, label='Risk')\n",
    "plt.plot(uplift_te.group.values, uplift_te.Treatment_Effect.values, 'bx-', linewidth=0.75, label='Uplift')\n",
    "plt.ylim(-2,12)\n",
    "plt.xticks(rotation='vertical')\n",
    "plt.xlabel(\"Customer Groups Determined by Levels of Risk or Lift (Low to High)\")\n",
    "plt.legend()\n",
    "plt.title(\"Treatment Effect by model\");"
   ]
  },
  {
   "cell_type": "markdown",
   "metadata": {},
   "source": [
    "<br>\n",
    "<br>"
   ]
  },
  {
   "cell_type": "markdown",
   "metadata": {},
   "source": [
    "### impact of Direct Marketing campaign\n",
    "\n",
    "- For risk model: Target customers with highest probability of visiting first\n",
    "- For uplift model: Target customers with highest uplift first"
   ]
  },
  {
   "cell_type": "code",
   "execution_count": 22,
   "metadata": {},
   "outputs": [],
   "source": [
    "def compute_pooled_proportion(p1, n1, p2, n2):\n",
    "    return ((p1*n1)+(p2*n2)) / (n1+n2)\n",
    "\n",
    "def compute_se(p, n1, n2):\n",
    "    return np.sqrt(p*(1-p)*((1/n1)+(1/n2)))\n",
    "\n",
    "def compute_impact(results, for_risk=True):\n",
    "    if for_risk:\n",
    "        targeting_strategy = 'risk_decile'\n",
    "    else:\n",
    "        targeting_strategy = 'uplift_decile'\n",
    "    treated_customers = results[results.Treatment==1]\n",
    "    control_customers = results[results.Treatment==0]\n",
    "    \n",
    "    treated_visit = (treated_customers.groupby(targeting_strategy)['Outcome'].sum()) \n",
    "    treated_total = (treated_customers.groupby(targeting_strategy)['Outcome'].count()) \n",
    "    control_visit = (control_customers.groupby(targeting_strategy)['Outcome'].sum())\n",
    "    control_total = (control_customers.groupby(targeting_strategy)['Outcome'].count()) \n",
    "    \n",
    "    treated_visit = pd.DataFrame(treated_visit).reset_index()\n",
    "    treated_visit[targeting_strategy] = treated_visit[targeting_strategy].astype(str)\n",
    "    treated_visit.columns = [targeting_strategy, 'visited']\n",
    "    treated_visit['total'] = treated_total.values\n",
    "    \n",
    "    control_visit = pd.DataFrame(control_visit).reset_index()\n",
    "    control_visit[targeting_strategy] = control_visit[targeting_strategy].astype(str)\n",
    "    control_visit.columns = [targeting_strategy, 'visited']\n",
    "    control_visit['total'] = control_total.values\n",
    "    \n",
    "#     # Target high uplift, low risk first\n",
    "#     if not for_risk:\n",
    "#         treated_visit, control_visit = treated_visit.iloc[::-1], control_visit.iloc[::-1]\n",
    "    \n",
    "    # Target high uplift, high risk first\n",
    "    treated_visit, control_visit = treated_visit.iloc[::-1], control_visit.iloc[::-1]\n",
    "        \n",
    "    treated_visit['visit_cumsum'] = treated_visit.visited.cumsum()\n",
    "    treated_visit['total_cumsum'] = treated_visit.total.cumsum()\n",
    "    treated_visit['cumsum_visit_rate'] = treated_visit.visit_cumsum / treated_visit.total_cumsum\n",
    "    control_visit['visit_cumsum'] = control_visit.visited.cumsum()\n",
    "    control_visit['total_cumsum'] = control_visit.total.cumsum()\n",
    "    control_visit['cumsum_visit_rate'] = control_visit.visit_cumsum / control_visit.total_cumsum\n",
    "    \n",
    "    impact_df = treated_visit[[targeting_strategy]].copy()\n",
    "    impact_df['cumsum_treatment_effect'] = treated_visit.cumsum_visit_rate - control_visit.cumsum_visit_rate\n",
    "    \n",
    "    p1, p2 = treated_visit.cumsum_visit_rate, control_visit.cumsum_visit_rate\n",
    "    n1, n2 = treated_visit.total_cumsum, control_visit.total_cumsum\n",
    "    \n",
    "    impact_df['pooled_cumsum_proportion'] = compute_pooled_proportion(p1, n1, p2, n2)\n",
    "    impact_df['standard_error'] = compute_se(impact_df['pooled_cumsum_proportion'].values, n1, n2)\n",
    "\n",
    "    return impact_df, treated_visit, control_visit"
   ]
  },
  {
   "cell_type": "code",
   "execution_count": 23,
   "metadata": {},
   "outputs": [],
   "source": [
    "risk_impact_df, _, _ = compute_impact(results_df, for_risk=True)\n",
    "uplift_impact_df, _, _ = compute_impact(results_df, for_risk=False)\n",
    "\n",
    "group_labels = [str(group*10)+'%' for group in list(range(1,11))]\n",
    "risk_impact_df['group'] = group_labels\n",
    "uplift_impact_df['group'] = group_labels"
   ]
  },
  {
   "cell_type": "markdown",
   "metadata": {},
   "source": [
    "Recall average Treatment Effect in test data"
   ]
  },
  {
   "cell_type": "code",
   "execution_count": 24,
   "metadata": {},
   "outputs": [
    {
     "name": "stdout",
     "output_type": "stream",
     "text": [
      "Womens's test set visit rate uplift: 5.28%\n"
     ]
    }
   ],
   "source": [
    "print(\"Womens's test set visit rate uplift: {:.2f}%\".format(average_treatment_effect))"
   ]
  },
  {
   "cell_type": "markdown",
   "metadata": {},
   "source": [
    "This is the visit rate uplift we expect when randomly targeting customers"
   ]
  },
  {
   "cell_type": "code",
   "execution_count": 25,
   "metadata": {},
   "outputs": [
    {
     "data": {
      "image/png": "[encoded data removed]",
      "text/plain": [
       "<Figure size 576x432 with 1 Axes>"
      ]
     },
     "metadata": {
      "needs_background": "light"
     },
     "output_type": "display_data"
    }
   ],
   "source": [
    "plt.figure(figsize=(8,6))\n",
    "plt.errorbar(uplift_impact_df.group, uplift_impact_df.cumsum_treatment_effect*100, (uplift_impact_df.standard_error*100*1.96), label='Uplift', alpha=0.65)\n",
    "plt.errorbar(risk_impact_df.group, risk_impact_df.cumsum_treatment_effect*100, (risk_impact_df.standard_error*100*1.96), label='Risk', alpha=0.65)\n",
    "plt.ylim(0,12)\n",
    "plt.xlabel(\"If Targeting Customers in Top n Decile (Fewer to More Customers)\")\n",
    "plt.hlines(average_treatment_effect, 0, 9, label='Random', alpha=0.75)\n",
    "plt.xlim(-0.5,9.5)\n",
    "plt.title(\"Cumulative Treatment Effect by Model\")\n",
    "plt.legend();"
   ]
  },
  {
   "cell_type": "markdown",
   "metadata": {},
   "source": [
    "<br>\n",
    "<br>"
   ]
  },
  {
   "cell_type": "markdown",
   "metadata": {},
   "source": [
    "### Customer characteristics by uplift"
   ]
  },
  {
   "cell_type": "code",
   "execution_count": null,
   "metadata": {},
   "outputs": [],
   "source": [
    "feat_names = list(results_df.drop(columns=['TransformedOutcome', 'Treatment', 'Outcome', 'risk', 'uplift', 'risk_decile']).columns)\n",
    "\n",
    "avg_by_uplift_decile = results_df[feat_names].groupby('uplift_decile').mean().reset_index()\n",
    "columns = []\n",
    "feats = []\n",
    "for col in avg_by_uplift_decile.columns:\n",
    "    if col[1] == '':\n",
    "        columns.append(col[0])\n",
    "    else:\n",
    "        feats.append(col[0])\n",
    "        columns.append(col[0]+'_'+col[1])\n",
    "\n",
    "avg_by_uplift_decile['uplift_decile'] = avg_by_uplift_decile['uplift_decile'].astype(str)\n",
    "group_labels = ['Group ' + str(group) for group in list(range(1,11))]\n",
    "avg_by_uplift_decile['group'] = group_labels\n",
    "avg_by_uplift_decile = avg_by_uplift_decile.iloc[::-1]\n",
    "\n",
    "\n",
    "fig = plt.figure(figsize=(16,12))\n",
    "for idx, col in enumerate(avg_by_uplift_decile.iloc[:,1:13]):\n",
    "    ax = fig.add_subplot(3,4,idx+1)\n",
    "    ax.set_xlabel('Decile Groups (High Uplift to Low Uplift)')\n",
    "    ax.set_title(col)\n",
    "    ax.plot(avg_by_uplift_decile.group, avg_by_uplift_decile[col], 'bx-', linewidth=1, alpha=0.75)\n",
    "    plt.xticks(rotation='vertical')\n",
    "    plt.hlines(results_df[col].mean(), 0, 9, label='Average', alpha=0.75, linewidth=1.5)\n",
    "    plt.legend()\n",
    "plt.tight_layout()"
   ]
  },
  {
   "cell_type": "markdown",
   "metadata": {},
   "source": [
    "<br>\n",
    "<br>"
   ]
  },
  {
   "cell_type": "markdown",
   "metadata": {},
   "source": [
    "### Build Uplift & Response models for Men's Visit Rate"
   ]
  },
  {
   "cell_type": "code",
   "execution_count": 11,
   "metadata": {},
   "outputs": [],
   "source": [
    "mens_df = df[df.segment!='Womens E-Mail'].copy()\n",
    "womens_df = df[df.segment!='Mens E-Mail'].copy()\n",
    "\n",
    "# Label encode segment as treatment column\n",
    "mens_df.segment.replace({'Mens E-Mail':1, 'No E-Mail':0}, inplace=True)\n",
    "womens_df.segment.replace({'Womens E-Mail':1, 'No E-Mail':0}, inplace=True)\n",
    "\n",
    "# Drop conversion and spend outcomes\n",
    "mens_df.drop(columns=['conversion', 'spend'], inplace=True)\n",
    "womens_df.drop(columns=['conversion', 'spend'], inplace=True)\n",
    "\n",
    "# Ordinal encode \"history_segment\"\n",
    "hist_seg_map = {\n",
    "    \"1) $0 - $100\":1,\n",
    "    \"2) $100 - $200\":2,\n",
    "    \"3) $200 - $350\":3,\n",
    "    \"4) $350 - $500\":4,\n",
    "    \"5) $500 - $750\":5,\n",
    "    \"6) $750 - $1,000\":6,\n",
    "    \"7) $1,000 +\":7\n",
    "}\n",
    "\n",
    "mens_df.history_segment.replace(hist_seg_map, inplace=True)\n",
    "womens_df.history_segment.replace(hist_seg_map, inplace=True)\n",
    "\n",
    "# # OHE categorical variables\n",
    "# mens_df = pd.get_dummies(mens_df)\n",
    "# womens_df = pd.get_dummies(womens_df)\n",
    "\n",
    "# Integer Encode\n",
    "mens_df.zip_code = LabelEncoder().fit_transform(mens_df.zip_code)\n",
    "mens_df.channel = LabelEncoder().fit_transform(mens_df.channel)\n",
    "womens_df.zip_code = LabelEncoder().fit_transform(womens_df.zip_code)\n",
    "womens_df.channel = LabelEncoder().fit_transform(womens_df.channel)\n",
    "\n",
    "# Label treatment and outcome columns\n",
    "mens_df.rename(columns={'segment':'Treatment', 'visit':'Outcome'}, inplace=True)\n",
    "womens_df.rename(columns={'segment':'Treatment', 'visit':'Outcome'}, inplace=True)\n",
    "\n",
    "state = 5\n",
    "\n",
    "# Build Uplift model using pylift package\n",
    "up2 = TransformedOutcome(mens_df,\n",
    "                         col_treatment='Treatment',\n",
    "                         col_outcome='Outcome',\n",
    "                         stratify=mens_df['Treatment'],\n",
    "                         test_size=0.5,\n",
    "                         continuous_outcome=False,\n",
    "                         sklearn_model=RandomForestRegressor,\n",
    "                         random_state=state\n",
    "                        )"
   ]
  },
  {
   "cell_type": "markdown",
   "metadata": {},
   "source": [
    "___"
   ]
  },
  {
   "cell_type": "code",
   "execution_count": null,
   "metadata": {},
   "outputs": [],
   "source": [
    "# RandomizedSearchCV. BEST PARAMS FOUND BELOW ALREADY\n",
    "up2.randomized_search(param_distributions={'max_depth': range(3,15),\n",
    "#                                            'min_samples_split': range(500,1800),\n",
    "                                           'max_features':['auto', 'sqrt'],\n",
    "                                           'n_estimators': range(3,150),\n",
    "                                           'random_state': [state]\n",
    "                                          },\n",
    "                      n_iter=250,\n",
    "                      cv=5,\n",
    "                      n_jobs=1,\n",
    "                      random_state=state,\n",
    "                      verbose=1\n",
    "                     )\n",
    "\n",
    "up2.rand_search_.best_params_"
   ]
  },
  {
   "cell_type": "markdown",
   "metadata": {},
   "source": [
    "___"
   ]
  },
  {
   "cell_type": "code",
   "execution_count": 16,
   "metadata": {},
   "outputs": [
    {
     "name": "stdout",
     "output_type": "stream",
     "text": [
      "Cumulative Gain AUC: 0.01420\n",
      "Cumulative Gain AUC: 0.00133\n"
     ]
    },
    {
     "data": {
      "image/png": "[encoded data removed]",
      "text/plain": [
       "<Figure size 864x360 with 2 Axes>"
      ]
     },
     "metadata": {
      "needs_background": "light"
     },
     "output_type": "display_data"
    }
   ],
   "source": [
    "best_params = {'random_state': 5,\n",
    " 'n_estimators': 50,\n",
    " 'min_samples_split': 3000,\n",
    " 'max_features': 'sqrt',\n",
    " 'max_depth': 8}\n",
    "\n",
    "up2.fit(**best_params)\n",
    "\n",
    "fig = plt.figure(figsize=(12,5))\n",
    "ax = fig.add_subplot(121)\n",
    "up2.train_results_.plot('qini', ax=ax, show_random_selection=True);\n",
    "\n",
    "ax = fig.add_subplot(122)\n",
    "up2.test_results_.plot('qini', ax=ax, show_random_selection=True);\n",
    "\n",
    "print(\"Cumulative Gain AUC: {:.5f}\".format(up2.train_results_.Q_qini))\n",
    "print(\"Cumulative Gain AUC: {:.5f}\".format(up2.test_results_.Q_qini))"
   ]
  },
  {
   "cell_type": "markdown",
   "metadata": {},
   "source": [
    "<br>\n",
    "<br>"
   ]
  },
  {
   "cell_type": "code",
   "execution_count": 28,
   "metadata": {},
   "outputs": [],
   "source": [
    "# Train on control group in calibration set, predict on treatment and control group in validation set\n",
    "train_df = up2.df_train[up2.df_train.Treatment==1].copy()\n",
    "test_df = up2.df_test.copy()\n",
    "\n",
    "# Drop other outcomes\n",
    "train_df.drop(columns = ['Treatment', 'TransformedOutcome'], inplace=True)\n",
    "test_df.drop(columns = ['Treatment', 'TransformedOutcome'], inplace=True)\n",
    "\n",
    "# Set up train/test df\n",
    "train_label = train_df.Outcome\n",
    "test_label = test_df.Outcome\n",
    "train_df = train_df.drop(columns='Outcome')\n",
    "test_df = test_df.drop(columns='Outcome')"
   ]
  },
  {
   "cell_type": "code",
   "execution_count": 29,
   "metadata": {
    "scrolled": true
   },
   "outputs": [],
   "source": [
    "risk_model = RandomForestClassifier(n_estimators=1500, max_depth=7, max_features='auto')\n",
    "risk_model.fit(train_df, train_label)\n",
    "y_pred_risk = risk_model.predict_proba(test_df)[:,1]\n",
    "\n",
    "results_df = up2.df_test.copy()\n",
    "results_df['risk'] = y_pred_risk\n",
    "results_df['uplift'] = up2.transformed_y_test_pred\n",
    "results_df['risk_decile'] = pd.qcut(y_pred_risk, 10)\n",
    "results_df['uplift_decile'] = pd.qcut(up2.transformed_y_test_pred, 10)\n",
    "\n",
    "del y_pred_risk"
   ]
  },
  {
   "cell_type": "markdown",
   "metadata": {},
   "source": [
    "<br>\n",
    "<br>"
   ]
  },
  {
   "cell_type": "code",
   "execution_count": 30,
   "metadata": {},
   "outputs": [
    {
     "data": {
      "image/png": "[encoded data removed]",
      "text/plain": [
       "<Figure size 1008x360 with 2 Axes>"
      ]
     },
     "metadata": {
      "needs_background": "light"
     },
     "output_type": "display_data"
    }
   ],
   "source": [
    "risk_treatment, risk_control = compute_visit_rates(results_df)\n",
    "uplift_treatment, uplift_control = compute_visit_rates(results_df, for_risk=False)\n",
    "\n",
    "fig = plt.figure(figsize=(14,5))\n",
    "\n",
    "ax1 = fig.add_subplot(121)\n",
    "ax1.bar(risk_treatment.risk_decile.values, risk_treatment.visit_rate.values, label='Treatment', alpha=0.75)\n",
    "ax1.bar(risk_control.risk_decile.values, risk_control.visit_rate.values, label='Control', alpha=0.75)\n",
    "ax1.set_ylabel(\"Visit rate\")\n",
    "ax1.set_xlabel(\"Risk decile (Low to High)\")\n",
    "ax1.legend()\n",
    "plt.xticks(rotation='vertical')\n",
    "ax1.set_title(\"Visit rate by levels of Risk\")\n",
    "ax1.set_ylim(0,30)\n",
    "\n",
    "ax2 = fig.add_subplot(122)\n",
    "ax2.bar(uplift_treatment.uplift_decile.values, uplift_treatment.visit_rate.values, label='Treatment', alpha=0.75)\n",
    "ax2.bar(uplift_control.uplift_decile.values, uplift_control.visit_rate.values, label='Control', alpha=0.75)\n",
    "ax2.set_ylabel(\"Visit rate\")\n",
    "ax2.set_xlabel(\"Uplift decile (Low to High)\")\n",
    "ax2.legend()\n",
    "plt.xticks(rotation='vertical')\n",
    "ax2.set_title(\"Visit rate by levels of Uplift\")\n",
    "ax2.set_ylim(0,30);"
   ]
  },
  {
   "cell_type": "code",
   "execution_count": 31,
   "metadata": {},
   "outputs": [
    {
     "data": {
      "image/png": "[encoded data removed]",
      "text/plain": [
       "<Figure size 576x432 with 1 Axes>"
      ]
     },
     "metadata": {
      "needs_background": "light"
     },
     "output_type": "display_data"
    }
   ],
   "source": [
    "group_labels = ['Group ' + str(group) for group in list(range(1,11))]\n",
    "risk_te = compute_treatment_effect(results_df)\n",
    "risk_te['group'] = group_labels\n",
    "uplift_te = compute_treatment_effect(results_df, for_risk=False)\n",
    "uplift_te['group'] = group_labels\n",
    "\n",
    "plt.figure(figsize=(8,6))\n",
    "plt.plot(risk_te.group.values, risk_te.Treatment_Effect.values, 'ro-', linewidth=0.75, label='Risk')\n",
    "plt.plot(uplift_te.group.values, uplift_te.Treatment_Effect.values, 'bx-', linewidth=0.75, label='Uplift')\n",
    "plt.ylim(-2,12)\n",
    "plt.xticks(rotation='vertical')\n",
    "plt.xlabel(\"Customer Groups Determined by Levels of Risk or Lift (Low to High)\")\n",
    "plt.legend()\n",
    "plt.title(\"Treatment Effect by model\");"
   ]
  },
  {
   "cell_type": "code",
   "execution_count": 32,
   "metadata": {},
   "outputs": [],
   "source": [
    "risk_impact_df, _, _ = compute_impact(results_df, for_risk=True)\n",
    "uplift_impact_df, _, _ = compute_impact(results_df, for_risk=False)\n",
    "\n",
    "group_labels = [str(group*10)+'%' for group in list(range(1,11))]\n",
    "risk_impact_df['group'] = group_labels\n",
    "uplift_impact_df['group'] = group_labels"
   ]
  },
  {
   "cell_type": "markdown",
   "metadata": {},
   "source": [
    "Average Treatment Effect in test data"
   ]
  },
  {
   "cell_type": "code",
   "execution_count": 33,
   "metadata": {},
   "outputs": [
    {
     "name": "stdout",
     "output_type": "stream",
     "text": [
      "Men's visit rate uplift: 7.57%\n"
     ]
    }
   ],
   "source": [
    "womens = results_df[results_df.Treatment==1].Outcome.mean()*100\n",
    "control = results_df[results_df.Treatment==0].Outcome.mean()*100\n",
    "ate_test = womens-control\n",
    "print(\"Men's visit rate uplift: {:.2f}%\".format(ate_test))\n",
    "del womens, control"
   ]
  },
  {
   "cell_type": "markdown",
   "metadata": {},
   "source": [
    "This is the expected visit rate uplift when randomly targeting customers"
   ]
  },
  {
   "cell_type": "code",
   "execution_count": 34,
   "metadata": {
    "scrolled": false
   },
   "outputs": [
    {
     "data": {
      "image/png": "[encoded data removed]",
      "text/plain": [
       "<Figure size 576x432 with 1 Axes>"
      ]
     },
     "metadata": {
      "needs_background": "light"
     },
     "output_type": "display_data"
    }
   ],
   "source": [
    "plt.figure(figsize=(8,6))\n",
    "plt.errorbar(uplift_impact_df.group, uplift_impact_df.cumsum_treatment_effect*100, (uplift_impact_df.standard_error*100*1.96), label='Uplift', alpha=0.75)\n",
    "plt.errorbar(risk_impact_df.group, risk_impact_df.cumsum_treatment_effect*100, (risk_impact_df.standard_error*100*1.96), label='Risk', alpha=0.75)\n",
    "plt.ylim(0,12)\n",
    "plt.xlabel(\"If Targeting Customers in Top n Decile (Fewer to More Customers)\")\n",
    "plt.hlines(ate_test, 0, 9, label='Random', alpha=0.75)\n",
    "plt.xlim(-0.5,9.5)\n",
    "plt.title(\"Cumulative Treatment Effect by Model\")\n",
    "plt.legend();"
   ]
  },
  {
   "cell_type": "code",
   "execution_count": null,
   "metadata": {},
   "outputs": [],
   "source": [
    "feat_names = list(results_df.drop(columns=['TransformedOutcome', 'Treatment', 'Outcome', 'risk', 'uplift', 'risk_decile']).columns)\n",
    "\n",
    "avg_by_uplift_decile = results_df[feat_names].groupby('uplift_decile').mean().reset_index()\n",
    "columns = []\n",
    "feats = []\n",
    "for col in avg_by_uplift_decile.columns:\n",
    "    if col[1] == '':\n",
    "        columns.append(col[0])\n",
    "    else:\n",
    "        feats.append(col[0])\n",
    "        columns.append(col[0]+'_'+col[1])\n",
    "\n",
    "avg_by_uplift_decile['uplift_decile'] = avg_by_uplift_decile['uplift_decile'].astype(str)\n",
    "group_labels = ['Group ' + str(group) for group in list(range(1,11))]\n",
    "avg_by_uplift_decile['group'] = group_labels\n",
    "avg_by_uplift_decile = avg_by_uplift_decile.iloc[::-1]\n",
    "\n",
    "\n",
    "fig = plt.figure(figsize=(16,12))\n",
    "for idx, col in enumerate(avg_by_uplift_decile.iloc[:,1:13]):\n",
    "    ax = fig.add_subplot(3,4,idx+1)\n",
    "    ax.set_xlabel('Decile Groups (High Uplift to Low Uplift)')\n",
    "    ax.set_title(col)\n",
    "    ax.plot(avg_by_uplift_decile.group, avg_by_uplift_decile[col], 'bx-', linewidth=1, alpha=0.75)\n",
    "    plt.xticks(rotation='vertical')\n",
    "    plt.hlines(results_df[col].mean(), 0, 9, label='Average', alpha=0.75, linewidth=1.5)\n",
    "    plt.legend()\n",
    "plt.tight_layout()"
   ]
  }
 ],
 "metadata": {
  "kernelspec": {
   "display_name": "Python 3",
   "language": "python",
   "name": "python3"
  },
  "language_info": {
   "codemirror_mode": {
    "name": "ipython",
    "version": 3
   },
   "file_extension": ".py",
   "mimetype": "text/x-python",
   "name": "python",
   "nbconvert_exporter": "python",
   "pygments_lexer": "ipython3",
   "version": "3.7.4"
  }
 },
 "nbformat": 4,
 "nbformat_minor": 2
}
